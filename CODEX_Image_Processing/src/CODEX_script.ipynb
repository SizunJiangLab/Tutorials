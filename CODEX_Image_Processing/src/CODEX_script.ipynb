{
 "cells": [
  {
   "cell_type": "markdown",
   "metadata": {},
   "source": [
    "# CODEX Image Processing\n",
    "\n",
    "In this tutorial, we will go through some crucial steps for CODEX image processing:\n",
    "1. Some basics about image and how to manipulate images in Python. \n",
    "2. Apply a manual (unfortunately this is how it is right now) high pass filter to the image.\n",
    "3. Put the images into proper format for segmentation using MESMER.\n",
    "4. Extract single cell information after we obtain the segmentation mask. "
   ]
  },
  {
   "cell_type": "markdown",
   "metadata": {},
   "source": [
    "## Essential Packages\n",
    "\n",
    "Here are the packages that we will be using. "
   ]
  },
  {
   "cell_type": "code",
   "execution_count": 1,
   "metadata": {},
   "outputs": [],
   "source": [
    "import tifffile\n",
    "import numpy as np \n",
    "import pandas as pd \n",
    "import matplotlib.pyplot as plt "
   ]
  },
  {
   "cell_type": "markdown",
   "metadata": {},
   "source": [
    "## Load Example Image\n",
    "\n",
    "In this tutorial, we will be using a core from a TMA as an example. Here we load the image into our environment using `tifffile.imread`"
   ]
  },
  {
   "cell_type": "code",
   "execution_count": null,
   "metadata": {},
   "outputs": [],
   "source": []
  }
 ],
 "metadata": {
  "kernelspec": {
   "display_name": "cellSeg",
   "language": "python",
   "name": "python3"
  },
  "language_info": {
   "codemirror_mode": {
    "name": "ipython",
    "version": 3
   },
   "file_extension": ".py",
   "mimetype": "text/x-python",
   "name": "python",
   "nbconvert_exporter": "python",
   "pygments_lexer": "ipython3",
   "version": "3.9.16"
  }
 },
 "nbformat": 4,
 "nbformat_minor": 2
}
